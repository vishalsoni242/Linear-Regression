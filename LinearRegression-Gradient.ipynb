{
 "cells": [
  {
   "cell_type": "markdown",
   "metadata": {},
   "source": [
    "# Linear Regression using Gradient Descent"
   ]
  },
  {
   "cell_type": "markdown",
   "metadata": {
    "collapsed": true
   },
   "source": [
    "## Importing Libraries"
   ]
  },
  {
   "cell_type": "code",
   "execution_count": 1,
   "metadata": {
    "collapsed": true
   },
   "outputs": [],
   "source": [
    "import numpy as np\n",
    "import matplotlib.pyplot as plt\n",
    "import pandas as pd\n",
    "%matplotlib inline"
   ]
  },
  {
   "cell_type": "markdown",
   "metadata": {},
   "source": [
    "## Importing Dataset"
   ]
  },
  {
   "cell_type": "code",
   "execution_count": 2,
   "metadata": {
    "collapsed": true
   },
   "outputs": [],
   "source": [
    "dataset = pd.read_csv('Salary_Data.csv')\n",
    "X = dataset.iloc[:, :-1].values\n",
    "y = dataset.iloc[:, 1].values"
   ]
  },
  {
   "cell_type": "markdown",
   "metadata": {},
   "source": [
    "## Function for Gradient Descent"
   ]
  },
  {
   "cell_type": "code",
   "execution_count": 4,
   "metadata": {
    "collapsed": true
   },
   "outputs": [],
   "source": [
    "def step_gradient(b, m, X, y, learning_rate):\n",
    "    b_gradient = 0\n",
    "    m_gradient = 0\n",
    "    n = float(len(X))\n",
    "    for i in range(len(X)):\n",
    "        b_gradient += -(2/n) * (y[i] - (m*X[i] + b))\n",
    "        m_gradient += -(2/n) * (X[i]) * (y[i] - (m*X[i] + b))\n",
    "    new_b = b - (learning_rate * b_gradient)\n",
    "    new_m = m - (learning_rate * m_gradient)\n",
    "    return [new_b,new_m]\n",
    "\n",
    "def gradient_runner(X, y, b, m, learning_rate, iterations):\n",
    "    for i in range(iterations):\n",
    "        b,m = step_gradient(b, m, X, y, learning_rate)\n",
    "    return [b,m]"
   ]
  },
  {
   "cell_type": "markdown",
   "metadata": {},
   "source": [
    "## Error Function"
   ]
  },
  {
   "cell_type": "code",
   "execution_count": 5,
   "metadata": {
    "collapsed": true
   },
   "outputs": [],
   "source": [
    "def error(b,m,X,y):\n",
    "    totalerror = 0\n",
    "    for i in range(len(X)):\n",
    "        totalerror += (y[i] - (m * X[i] + b))**2\n",
    "    return (totalerror/(float(len(X))))"
   ]
  },
  {
   "cell_type": "markdown",
   "metadata": {},
   "source": [
    "## Applying Gradient Descent"
   ]
  },
  {
   "cell_type": "code",
   "execution_count": 9,
   "metadata": {
    "collapsed": true
   },
   "outputs": [],
   "source": [
    "learning_rate = 0.001\n",
    "b = 0\n",
    "m = 0\n",
    "iterations = 10000\n",
    "[b,m] = gradient_runner(X, y, b, m, learning_rate, iterations)\n",
    "y_pred = m * X + b"
   ]
  },
  {
   "cell_type": "code",
   "execution_count": 10,
   "metadata": {},
   "outputs": [
    {
     "name": "stdout",
     "output_type": "stream",
     "text": [
      "Intercept :  [ 25445.39127944]\n",
      "Slope :  [ 9501.42731313]\n",
      "MSE :  [ 31296953.27330075]\n"
     ]
    }
   ],
   "source": [
    "print(\"Intercept : \", b)\n",
    "print(\"Slope : \", m)\n",
    "print(\"MSE : \", error(b, m, X, y))"
   ]
  },
  {
   "cell_type": "markdown",
   "metadata": {},
   "source": [
    "## Visualizing Results"
   ]
  },
  {
   "cell_type": "code",
   "execution_count": 12,
   "metadata": {},
   "outputs": [
    {
     "data": {
      "image/png": "[encoded data removed]",
      "text/plain": [
       "<matplotlib.figure.Figure at 0xe11e5f0>"
      ]
     },
     "metadata": {},
     "output_type": "display_data"
    }
   ],
   "source": [
    "plt.scatter(X, y, color = 'red')\n",
    "plt.plot(X, y_pred, color = 'green')\n",
    "plt.title('Salary vs Experience')\n",
    "plt.xlabel('Years of Experience')\n",
    "plt.ylabel('Salary')\n",
    "plt.show()"
   ]
  }
 ],
 "metadata": {
  "kernelspec": {
   "display_name": "Python 3",
   "language": "python",
   "name": "python3"
  },
  "language_info": {
   "codemirror_mode": {
    "name": "ipython",
    "version": 3
   },
   "file_extension": ".py",
   "mimetype": "text/x-python",
   "name": "python",
   "nbconvert_exporter": "python",
   "pygments_lexer": "ipython3",
   "version": "3.6.3"
  }
 },
 "nbformat": 4,
 "nbformat_minor": 2
}
